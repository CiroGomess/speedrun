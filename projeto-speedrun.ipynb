{
 "cells": [
  {
   "cell_type": "code",
   "execution_count": null,
   "metadata": {},
   "outputs": [],
   "source": []
  }
 ],
 "metadata": {
  "kernelspec": {
   "display_name": "Python 3.8.0 64-bit",
   "language": "python",
   "name": "python3"
  },
  "language_info": {
   "name": "python",
   "version": "3.8.0"
  },
  "orig_nbformat": 4,
  "vscode": {
   "interpreter": {
    "hash": "5fcc1850285f3bcfb140f75ef9de0babe261d36faeee7602a574fb8d5b46cfbf"
   }
  }
 },
 "nbformat": 4,
 "nbformat_minor": 2
}
